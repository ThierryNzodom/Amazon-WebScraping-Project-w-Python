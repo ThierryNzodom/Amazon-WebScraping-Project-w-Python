{
 "cells": [
  {
   "cell_type": "code",
   "execution_count": 10,
   "id": "65cee6b0",
   "metadata": {},
   "outputs": [],
   "source": [
    "from bs4 import BeautifulSoup\n",
    "import requests\n",
    "import time\n",
    "import datetime\n",
    "import pandas as pd\n",
    "\n",
    "import smtplib"
   ]
  },
  {
   "cell_type": "code",
   "execution_count": 11,
   "id": "3cf98c7d",
   "metadata": {},
   "outputs": [
    {
     "name": "stdout",
     "output_type": "stream",
     "text": [
      "\n",
      "            Data Engineering with Python: Work with massive datasets to design data models and automate data pipelines using Python\n",
      "           \n",
      "\n",
      "                         32,08 €\n",
      "                        \n",
      "\n",
      "             38 Sternebewertungen\n",
      "            \n"
     ]
    }
   ],
   "source": [
    "# Connect to Website and pull in data\n",
    "\n",
    "URL = 'https://www.amazon.de/Data-Engineering-Python-datasets-pipelines/dp/183921418X/ref=sr_1_3?__mk_de_DE=%C3%85M%C3%85%C5%BD%C3%95%C3%91&keywords=data&qid=1636816296&sr=8-3'\n",
    "\n",
    "# header for my computer found using https://httpbin.org/get\n",
    "headers = {\"User-Agent\": \"Mozilla/5.0 (Windows NT 10.0; Win64; x64) AppleWebKit/537.36 (KHTML, like Gecko) Chrome/94.0.4606.71 Safari/537.36\", \"Accept-Encoding\":\"gzip, deflate\", \"Accept\":\"text/html,application/xhtml+xml,application/xml;q=0.9,*/*;q=0.8\", \"DNT\":\"1\",\"Connection\":\"close\", \"Upgrade-Insecure-Requests\":\"1\"}\n",
    "\n",
    "page = requests.get(URL, headers=headers)\n",
    "\n",
    "soup1 = BeautifulSoup(page.content, \"html.parser\")\n",
    "\n",
    "soup2 = BeautifulSoup(soup1.prettify(), \"html.parser\")\n",
    "\n",
    "title = soup2.find(id=\"productTitle\").get_text()\n",
    "\n",
    "price = soup2.find(id=\"price\").get_text()\n",
    "#price = soup2.find(\"span\", {\"class\": \"a-offscreen\"}).get_text()\n",
    "\n",
    "customerReview = soup2.find(id=\"acrCustomerReviewText\").get_text()\n",
    "\n",
    "print(title)\n",
    "print(price)\n",
    "print(customerReview)"
   ]
  },
  {
   "cell_type": "code",
   "execution_count": 12,
   "id": "1fcfea79",
   "metadata": {},
   "outputs": [
    {
     "name": "stdout",
     "output_type": "stream",
     "text": [
      "Data Engineering with Python: Work with massive datasets to design data models and automate data pipelines using Python\n",
      "32,08 €\n",
      "38 Sternebewertungen\n"
     ]
    }
   ],
   "source": [
    "title = title.strip()\n",
    "price = price.strip() #[1:]\n",
    "customerReview = customerReview.strip()\n",
    "print(title)\n",
    "print(price)\n",
    "print(customerReview)"
   ]
  },
  {
   "cell_type": "code",
   "execution_count": 13,
   "id": "9853c9e1",
   "metadata": {},
   "outputs": [
    {
     "name": "stdout",
     "output_type": "stream",
     "text": [
      "2021-11-13\n"
     ]
    }
   ],
   "source": [
    "import datetime as dt\n",
    "\n",
    "today = dt.date.today()\n",
    "print(today)"
   ]
  },
  {
   "cell_type": "code",
   "execution_count": 14,
   "id": "674ffb04",
   "metadata": {},
   "outputs": [],
   "source": [
    "import csv as csvFile\n",
    "\n",
    "#wrong character in price variable: convert price to float\n",
    "price = price.replace('\\xa0€', '')\n",
    "price = price.replace(\",\", \".\")\n",
    "    \n",
    "header = [\"Title\", \"Price\", \"Date\"]\n",
    "data = [title, price, today]\n",
    "\n",
    "with open(\"WebScraperDataset.csv\", \"w\", newline=\"\", encoding=\"utf-8\") as f: #'w' for write\n",
    "    writer = csvFile.writer(f)\n",
    "    writer.writerow(header)\n",
    "    writer.writerow(data)\n",
    "# type(data)"
   ]
  },
  {
   "cell_type": "code",
   "execution_count": 15,
   "id": "a3e0d107",
   "metadata": {},
   "outputs": [
    {
     "name": "stdout",
     "output_type": "stream",
     "text": [
      "                                               Title  Price        Date\n",
      "0  Data Engineering with Python: Work with massiv...  32.08  2021-11-13\n"
     ]
    }
   ],
   "source": [
    "df = pd.read_csv(\"WebScraperDataset.csv\") #beginning with \"r\" and add the local file\n",
    "print(df)"
   ]
  },
  {
   "cell_type": "code",
   "execution_count": 16,
   "id": "4b5c9d86",
   "metadata": {},
   "outputs": [],
   "source": [
    "#Now append data to the csv file\n",
    "\n",
    "with open(\"WebScraperDataset.csv\", \"a+\", newline=\"\", encoding='utf-8') as f:\n",
    "    writer = csvFile.writer(f)\n",
    "    writer.writerow(data)"
   ]
  },
  {
   "cell_type": "code",
   "execution_count": 17,
   "id": "762243c4",
   "metadata": {},
   "outputs": [],
   "source": [
    "def check_price():\n",
    "    URL = 'https://www.amazon.de/Data-Engineering-Python-datasets-pipelines/dp/183921418X/ref=sr_1_3?__mk_de_DE=%C3%85M%C3%85%C5%BD%C3%95%C3%91&keywords=data&qid=1636816296&sr=8-3'\n",
    "\n",
    "    headers = {\"User-Agent\": \"Mozilla/5.0 (Windows NT 10.0; Win64; x64) AppleWebKit/537.36 (KHTML, like Gecko) Chrome/94.0.4606.71 Safari/537.36\", \"Accept-Encoding\":\"gzip, deflate\", \"Accept\":\"text/html,application/xhtml+xml,application/xml;q=0.9,*/*;q=0.8\", \"DNT\":\"1\",\"Connection\":\"close\", \"Upgrade-Insecure-Requests\":\"1\"}\n",
    "\n",
    "    page = requests.get(URL, headers=headers)\n",
    "\n",
    "    soup1 = BeautifulSoup(page.content, \"html.parser\")\n",
    "\n",
    "    soup2 = BeautifulSoup(soup1.prettify(), \"html.parser\")\n",
    "\n",
    "    title = soup2.find(id=\"productTitle\").get_text()\n",
    "\n",
    "    price = soup2.find(\"span\", {\"class\": \"a-offscreen\"}).get_text()\n",
    "    \n",
    "    title = title.strip()\n",
    "    price = price.strip()\n",
    "    \n",
    "    #wrong character in price variable: convert price to float\n",
    "    price = price.replace('\\xa0€', '')\n",
    "    price = price.replace(\",\", \".\")\n",
    "    priceFloat = float(price)    \n",
    "\n",
    "    import datetime as dt\n",
    "\n",
    "    today = dt.date.today()\n",
    "\n",
    "    import csv as csvFile\n",
    "\n",
    "    header = [\"Title\", \"Price\", \"Date\"]\n",
    "    data = [title, price, today]\n",
    "\n",
    "    #'a+' for append and newline = '' for next free row\n",
    "    with open(\"WebScraperDataset.csv\", \"a+\", newline=\"\", encoding='utf-8') as f: \n",
    "        writer = csvFile.writer(f)\n",
    "        writer.writerow(data)\n",
    "        \n",
    "    if(priceFloat < 25):\n",
    "        send_mail()"
   ]
  },
  {
   "cell_type": "code",
   "execution_count": null,
   "id": "825bb114",
   "metadata": {},
   "outputs": [],
   "source": [
    "while(True):\n",
    "    check_price()\n",
    "    time.sleep(86400) #unit in sec (1 day = 60 * 60 * 24)"
   ]
  },
  {
   "cell_type": "code",
   "execution_count": null,
   "id": "f09a3a32",
   "metadata": {},
   "outputs": [],
   "source": [
    "import pandas as pd\n",
    "\n",
    "df = pd.read_csv(\"WebScraperDataset.csv\") #beginning with \"r\" and add the local file\n",
    "\n",
    "print(df)"
   ]
  },
  {
   "cell_type": "code",
   "execution_count": null,
   "id": "cc869bad",
   "metadata": {},
   "outputs": [],
   "source": [
    "# Sending yourself an email when a price hits below a certain level you can try it\n",
    "# out with this script\n",
    "\n",
    "def send_mail():\n",
    "    server = smtplib.SMTP_SSL('smtp.gmail.com',465)\n",
    "    server.ehlo()\n",
    "    #server.starttls()\n",
    "    server.ehlo()\n",
    "    server.login('greatforother@gmail.com','xxxxxxxxxxxxxx')\n",
    "    \n",
    "    subject = \"What you want is below 25,-€! Now is your chance to buy!\"\n",
    "    body = \"Thierry, this is the moment we have been waiting for. Now is your chance to pick up the shirt of your dreams. Don't mess it up! Link here: https://www.amazon.com/Funny-Data-Systems-Business-Analyst/dp/B07FNW9FGJ/ref=sr_1_3?dchild=1&keywords=data+analyst+tshirt&qid=1626655184&sr=8-3\"\n",
    "   \n",
    "    msg = f\"Subject: {subject}\\n\\n{body}\"\n",
    "    \n",
    "    server.sendmail(\n",
    "        'greatforother@gmail.com',\n",
    "        msg\n",
    "     \n",
    "    )"
   ]
  }
 ],
 "metadata": {
  "kernelspec": {
   "display_name": "Python 3 (ipykernel)",
   "language": "python",
   "name": "python3"
  },
  "language_info": {
   "codemirror_mode": {
    "name": "ipython",
    "version": 3
   },
   "file_extension": ".py",
   "mimetype": "text/x-python",
   "name": "python",
   "nbconvert_exporter": "python",
   "pygments_lexer": "ipython3",
   "version": "3.9.6"
  }
 },
 "nbformat": 4,
 "nbformat_minor": 5
}
