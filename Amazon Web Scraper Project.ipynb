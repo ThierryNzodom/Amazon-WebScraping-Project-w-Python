{
 "cells": [
  {
   "cell_type": "code",
   "execution_count": 6,
   "id": "65cee6b0",
   "metadata": {},
   "outputs": [],
   "source": [
    "from bs4 import BeautifulSoup\n",
    "import requests\n",
    "import time\n",
    "import datetime\n",
    "import pandas as pd\n",
    "\n",
    "import smtplib"
   ]
  },
  {
   "cell_type": "code",
   "execution_count": 7,
   "id": "3cf98c7d",
   "metadata": {},
   "outputs": [
    {
     "name": "stdout",
     "output_type": "stream",
     "text": [
      "\n",
      "                   Funny Got Data MIS Data Systems Business Analyst T-Shirt\n",
      "                  \n",
      "$16.99\n",
      "\n",
      "                    11 ratings\n",
      "                   \n"
     ]
    }
   ],
   "source": [
    "# Connect to \"static\" Website and pull in data\n",
    "\n",
    "URL = 'https://www.amazon.com/Funny-Data-Systems-Business-Analyst/dp/B07FNW9FGJ/ref=sr_1_3?dchild=1&keywords=data%2Banalyst%2Btshirt&qid=1626655184&sr=8-3&customId=B0752XJYNL&th=1'\n",
    "\n",
    "headers = {\"User-Agent\": \"Mozilla/5.0 (Windows NT 10.0; Win64; x64) AppleWebKit/537.36 (KHTML, like Gecko) Chrome/78.0.3904.108 Safari/537.36\", \"Accept-Encoding\":\"gzip, deflate\", \"Accept\":\"text/html,application/xhtml+xml,application/xml;q=0.9,*/*;q=0.8\", \"DNT\":\"1\",\"Connection\":\"close\", \"Upgrade-Insecure-Requests\":\"1\"}\n",
    "\n",
    "page = requests.get(URL, headers=headers)\n",
    "\n",
    "soup1 = BeautifulSoup(page.content, \"html.parser\")\n",
    "\n",
    "soup2 = BeautifulSoup(soup1.prettify(), \"html.parser\")\n",
    "\n",
    "title = soup2.find(id=\"productTitle\").get_text()\n",
    "\n",
    "price = \"$16.99\"\n",
    "\n",
    "customerReview = soup2.find(id=\"acrCustomerReviewText\").get_text()\n",
    "\n",
    "\n",
    "print(title)\n",
    "print(price)\n",
    "print(customerReview)"
   ]
  },
  {
   "cell_type": "code",
   "execution_count": 8,
   "id": "1fcfea79",
   "metadata": {},
   "outputs": [
    {
     "name": "stdout",
     "output_type": "stream",
     "text": [
      "Funny Got Data MIS Data Systems Business Analyst T-Shirt\n",
      "16.99\n",
      "11 ratings\n"
     ]
    }
   ],
   "source": [
    "title = title.strip()\n",
    "price = price.strip()[1:]\n",
    "customerReview = customerReview.strip()\n",
    "print(title)\n",
    "print(price)\n",
    "print(customerReview)"
   ]
  },
  {
   "cell_type": "code",
   "execution_count": 9,
   "id": "9853c9e1",
   "metadata": {},
   "outputs": [
    {
     "name": "stdout",
     "output_type": "stream",
     "text": [
      "2021-10-22\n"
     ]
    }
   ],
   "source": [
    "import datetime as dt\n",
    "\n",
    "today = dt.date.today()\n",
    "print(today)"
   ]
  },
  {
   "cell_type": "code",
   "execution_count": 10,
   "id": "674ffb04",
   "metadata": {},
   "outputs": [],
   "source": [
    "import csv as csvFile\n",
    "\n",
    "header = [\"Title\", \"Price\", \"Date\"]\n",
    "data = [title, price, today]\n",
    "\n",
    "with open(\"AmazonWebScraperDataset.csv\", \"w\", newline=\"\", encoding=\"utf-8\") as f: #'w' for write\n",
    "    writer = csvFile.writer(f)\n",
    "    writer.writerow(header)\n",
    "    writer.writerow(data)\n",
    "# type(data)"
   ]
  },
  {
   "cell_type": "code",
   "execution_count": 11,
   "id": "a3e0d107",
   "metadata": {},
   "outputs": [
    {
     "name": "stdout",
     "output_type": "stream",
     "text": [
      "                                               Title  Price        Date\n",
      "0  Funny Got Data MIS Data Systems Business Analy...  16.99  2021-10-22\n"
     ]
    }
   ],
   "source": [
    "df = pd.read_csv(\"AmazonWebScraperDataset.csv\") #beginning with \"r\" and add the local file\n",
    "print(df)"
   ]
  },
  {
   "cell_type": "code",
   "execution_count": 15,
   "id": "4b5c9d86",
   "metadata": {},
   "outputs": [],
   "source": [
    "#Now append data to the csv file\n",
    "\n",
    "with open(\"AmazonWebScraperDataset.csv\", \"a+\", newline=\"\", encoding='utf-8') as f:\n",
    "    writer = csvFile.writer(f)\n",
    "    writer.writerow(data)"
   ]
  },
  {
   "cell_type": "code",
   "execution_count": 24,
   "id": "762243c4",
   "metadata": {},
   "outputs": [],
   "source": [
    "def check_price():\n",
    "    URL = 'https://www.amazon.com/Funny-Data-Systems-Business-Analyst/dp/B07FNW9FGJ/ref=sr_1_3?dchild=1&keywords=data%2Banalyst%2Btshirt&qid=1626655184&sr=8-3&customId=B0752XJYNL&th=1'\n",
    "\n",
    "    headers = {\"User-Agent\": \"Mozilla/5.0 (Windows NT 10.0; Win64; x64) AppleWebKit/537.36 (KHTML, like Gecko) Chrome/78.0.3904.108 Safari/537.36\", \"Accept-Encoding\":\"gzip, deflate\", \"Accept\":\"text/html,application/xhtml+xml,application/xml;q=0.9,*/*;q=0.8\", \"DNT\":\"1\",\"Connection\":\"close\", \"Upgrade-Insecure-Requests\":\"1\"}\n",
    "\n",
    "    page = requests.get(URL, headers=headers)\n",
    "\n",
    "    soup1 = BeautifulSoup(page.content, \"html.parser\")\n",
    "\n",
    "    soup2 = BeautifulSoup(soup1.prettify(), \"html.parser\")\n",
    "\n",
    "    title = soup2.find(id=\"productTitle\").get_text()\n",
    "\n",
    "    price = \"$16.99\"\n",
    "    \n",
    "    title = title.strip()\n",
    "    price = price.strip()[1:]    \n",
    "\n",
    "    import datetime as dt\n",
    "\n",
    "    today = dt.date.today()\n",
    "\n",
    "    import csv as csvFile\n",
    "\n",
    "    header = [\"Title\", \"Price\", \"Date\"]\n",
    "    data = [title, price, today]\n",
    "\n",
    "    #'a+' for append and newline = '' for next free row\n",
    "    with open(\"AmazonWebScraperDataset.csv\", \"a+\", newline=\"\", encoding='utf-8') as f: \n",
    "        writer = csvFile.writer(f)\n",
    "        writer.writerow(data)\n",
    "        \n",
    "    if(price < 14):\n",
    "        send_mail()"
   ]
  },
  {
   "cell_type": "code",
   "execution_count": 25,
   "id": "825bb114",
   "metadata": {},
   "outputs": [
    {
     "ename": "AttributeError",
     "evalue": "'NoneType' object has no attribute 'get_text'",
     "output_type": "error",
     "traceback": [
      "\u001b[1;31m---------------------------------------------------------------------------\u001b[0m",
      "\u001b[1;31mAttributeError\u001b[0m                            Traceback (most recent call last)",
      "\u001b[1;32m~\\AppData\\Local\\Temp/ipykernel_53964/1989554913.py\u001b[0m in \u001b[0;36m<module>\u001b[1;34m\u001b[0m\n\u001b[0;32m      1\u001b[0m \u001b[1;32mwhile\u001b[0m\u001b[1;33m(\u001b[0m\u001b[1;32mTrue\u001b[0m\u001b[1;33m)\u001b[0m\u001b[1;33m:\u001b[0m\u001b[1;33m\u001b[0m\u001b[1;33m\u001b[0m\u001b[0m\n\u001b[1;32m----> 2\u001b[1;33m     \u001b[0mcheck_price\u001b[0m\u001b[1;33m(\u001b[0m\u001b[1;33m)\u001b[0m\u001b[1;33m\u001b[0m\u001b[1;33m\u001b[0m\u001b[0m\n\u001b[0m\u001b[0;32m      3\u001b[0m     \u001b[0mtime\u001b[0m\u001b[1;33m.\u001b[0m\u001b[0msleep\u001b[0m\u001b[1;33m(\u001b[0m\u001b[1;36m86400\u001b[0m\u001b[1;33m)\u001b[0m \u001b[1;31m#unit in sec (1 day = 60 * 60 * 24)\u001b[0m\u001b[1;33m\u001b[0m\u001b[1;33m\u001b[0m\u001b[0m\n",
      "\u001b[1;32m~\\AppData\\Local\\Temp/ipykernel_53964/1124500057.py\u001b[0m in \u001b[0;36mcheck_price\u001b[1;34m()\u001b[0m\n\u001b[0;32m     10\u001b[0m     \u001b[0msoup2\u001b[0m \u001b[1;33m=\u001b[0m \u001b[0mBeautifulSoup\u001b[0m\u001b[1;33m(\u001b[0m\u001b[0msoup1\u001b[0m\u001b[1;33m.\u001b[0m\u001b[0mprettify\u001b[0m\u001b[1;33m(\u001b[0m\u001b[1;33m)\u001b[0m\u001b[1;33m,\u001b[0m \u001b[1;34m\"html.parser\"\u001b[0m\u001b[1;33m)\u001b[0m\u001b[1;33m\u001b[0m\u001b[1;33m\u001b[0m\u001b[0m\n\u001b[0;32m     11\u001b[0m \u001b[1;33m\u001b[0m\u001b[0m\n\u001b[1;32m---> 12\u001b[1;33m     \u001b[0mtitle\u001b[0m \u001b[1;33m=\u001b[0m \u001b[0msoup2\u001b[0m\u001b[1;33m.\u001b[0m\u001b[0mfind\u001b[0m\u001b[1;33m(\u001b[0m\u001b[0mid\u001b[0m\u001b[1;33m=\u001b[0m\u001b[1;34m\"productTitle\"\u001b[0m\u001b[1;33m)\u001b[0m\u001b[1;33m.\u001b[0m\u001b[0mget_text\u001b[0m\u001b[1;33m(\u001b[0m\u001b[1;33m)\u001b[0m\u001b[1;33m\u001b[0m\u001b[1;33m\u001b[0m\u001b[0m\n\u001b[0m\u001b[0;32m     13\u001b[0m \u001b[1;33m\u001b[0m\u001b[0m\n\u001b[0;32m     14\u001b[0m     \u001b[0mprice\u001b[0m \u001b[1;33m=\u001b[0m \u001b[1;34m\"$16.99\"\u001b[0m\u001b[1;33m\u001b[0m\u001b[1;33m\u001b[0m\u001b[0m\n",
      "\u001b[1;31mAttributeError\u001b[0m: 'NoneType' object has no attribute 'get_text'"
     ]
    }
   ],
   "source": [
    "while(True):\n",
    "    check_price()\n",
    "    time.sleep(86400) #unit in sec (1 day = 60 * 60 * 24)"
   ]
  },
  {
   "cell_type": "code",
   "execution_count": 26,
   "id": "f09a3a32",
   "metadata": {},
   "outputs": [
    {
     "name": "stdout",
     "output_type": "stream",
     "text": [
      "                                                 Title  Price        Date\n",
      "0    Funny Got Data MIS Data Systems Business Analy...  16.99  2021-10-22\n",
      "1    Funny Got Data MIS Data Systems Business Analy...  16.99  2021-10-22\n",
      "2    Funny Got Data MIS Data Systems Business Analy...  16.99  2021-10-22\n",
      "3    Funny Got Data MIS Data Systems Business Analy...  16.99  2021-10-22\n",
      "4    Funny Got Data MIS Data Systems Business Analy...  16.99  2021-10-22\n",
      "..                                                 ...    ...         ...\n",
      "113  Funny Got Data MIS Data Systems Business Analy...  16.99  2021-10-22\n",
      "114  Funny Got Data MIS Data Systems Business Analy...  16.99  2021-10-22\n",
      "115  Funny Got Data MIS Data Systems Business Analy...  16.99  2021-10-22\n",
      "116  Funny Got Data MIS Data Systems Business Analy...  16.99  2021-10-22\n",
      "117  Funny Got Data MIS Data Systems Business Analy...  16.99  2021-10-22\n",
      "\n",
      "[118 rows x 3 columns]\n"
     ]
    }
   ],
   "source": [
    "import pandas as pd\n",
    "\n",
    "df = pd.read_csv(\"AmazonWebScraperDataset.csv\") #beginning with \"r\" and add the local file\n",
    "\n",
    "print(df)"
   ]
  },
  {
   "cell_type": "code",
   "execution_count": 19,
   "id": "cc869bad",
   "metadata": {},
   "outputs": [],
   "source": [
    "# Sending yourself an email when a price hits below a certain level you can try it\n",
    "# out with this script\n",
    "\n",
    "def send_mail():\n",
    "    server = smtplib.SMTP_SSL('smtp.gmail.com',465)\n",
    "    server.ehlo()\n",
    "    #server.starttls()\n",
    "    server.ehlo()\n",
    "    server.login('AlexTheAnalyst95@gmail.com','xxxxxxxxxxxxxx')\n",
    "    \n",
    "    subject = \"What you want is below $15! Now is your chance to buy!\"\n",
    "    body = \"Thierry, this is the moment we have been waiting for. Now is your chance to pick up the shirt of your dreams. Don't mess it up! Link here: https://www.amazon.com/Funny-Data-Systems-Business-Analyst/dp/B07FNW9FGJ/ref=sr_1_3?dchild=1&keywords=data+analyst+tshirt&qid=1626655184&sr=8-3\"\n",
    "   \n",
    "    msg = f\"Subject: {subject}\\n\\n{body}\"\n",
    "    \n",
    "    server.sendmail(\n",
    "        'greatforother@gmail.com',\n",
    "        msg\n",
    "     \n",
    "    )"
   ]
  },
  {
   "cell_type": "code",
   "execution_count": null,
   "id": "0045ab0f",
   "metadata": {},
   "outputs": [],
   "source": []
  }
 ],
 "metadata": {
  "kernelspec": {
   "display_name": "Python 3 (ipykernel)",
   "language": "python",
   "name": "python3"
  },
  "language_info": {
   "codemirror_mode": {
    "name": "ipython",
    "version": 3
   },
   "file_extension": ".py",
   "mimetype": "text/x-python",
   "name": "python",
   "nbconvert_exporter": "python",
   "pygments_lexer": "ipython3",
   "version": "3.9.6"
  }
 },
 "nbformat": 4,
 "nbformat_minor": 5
}
